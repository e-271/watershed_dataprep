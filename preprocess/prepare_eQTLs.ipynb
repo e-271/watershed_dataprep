{
 "cells": [
  {
   "cell_type": "code",
   "execution_count": 14,
   "id": "7cecb70c",
   "metadata": {},
   "outputs": [],
   "source": [
    "import os\n",
    "import pandas as pd\n",
    "from tqdm import tqdm\n",
    "\n",
    "def query_tabix(ch, s, e, file, opt=\"\"):\n",
    "    os.system(f\"tabix {file} {ch}:{s}-{e} > /tmp/{ch}:{s}-{e}.tsv\")\n",
    "    try:\n",
    "        pd.read_table(f\"/tmp/{ch}:{s}-{e}.tsv\")\n",
    "    except pd.errors.EmptyDataError: \n",
    "        return None\n",
    "\n",
    "genes = pd.read_table(f\"{data_dir}/gencode/gencode.v43.gene_pos.tsv\", header=None)\n",
    "genes = genes.set_index(0)"
   ]
  },
  {
   "cell_type": "code",
   "execution_count": 46,
   "id": "d3d07acd",
   "metadata": {},
   "outputs": [
    {
     "name": "stderr",
     "output_type": "stream",
     "text": [
      "/tmp/ipykernel_8742/4074484542.py:1: ParserWarning: Falling back to the 'python' engine because the 'c' engine does not support regex separators (separators > 1 char and different from '\\s+' are interpreted as regex); you can avoid this warning by specifying engine='python'.\n",
      "  eqtls = pd.read_csv(f'{data_dir}/eqtls/sorted.byGene.dist.hwe.af.ESN.top1.eQTL.nominal.hg38a.txt', sep='[\\t,\\s]', header=None)\n"
     ]
    }
   ],
   "source": [
    "eqtls = pd.read_csv(f'{data_dir}/eqtls/sorted.byGene.dist.hwe.af.ESN.top1.eQTL.nominal.hg38a.txt', sep='[\\t,\\s]', header=None)\n",
    "# TODO fix this, problem from sort\n",
    "eqtls.columns = eqtls.iloc[-1]"
   ]
  },
  {
   "cell_type": "code",
   "execution_count": 52,
   "id": "49369f12",
   "metadata": {},
   "outputs": [],
   "source": [
    "eqtls = eqtls.set_index(\"feature\")"
   ]
  },
  {
   "cell_type": "code",
   "execution_count": 15,
   "id": "3d492fab",
   "metadata": {},
   "outputs": [
    {
     "ename": "IndexError",
     "evalue": "list index out of range",
     "output_type": "error",
     "traceback": [
      "\u001b[0;31m---------------------------------------------------------------------------\u001b[0m",
      "\u001b[0;31mIndexError\u001b[0m                                Traceback (most recent call last)",
      "Cell \u001b[0;32mIn[15], line 5\u001b[0m\n\u001b[1;32m      3\u001b[0m eqtl_file \u001b[38;5;241m=\u001b[39m \u001b[38;5;124mf\u001b[39m\u001b[38;5;124m\"\u001b[39m\u001b[38;5;132;01m{\u001b[39;00mdata_dir\u001b[38;5;132;01m}\u001b[39;00m\u001b[38;5;124m/eqtls/sorted.dist.hwe.af.\u001b[39m\u001b[38;5;132;01m{\u001b[39;00mpop\u001b[38;5;132;01m}\u001b[39;00m\u001b[38;5;124m.eQTL.nominal.hg38a.txt\u001b[39m\u001b[38;5;124m\"\u001b[39m\n\u001b[1;32m      4\u001b[0m os\u001b[38;5;241m.\u001b[39msystem(\u001b[38;5;124mf\u001b[39m\u001b[38;5;124m\"\u001b[39m\u001b[38;5;124mwc -l \u001b[39m\u001b[38;5;132;01m{\u001b[39;00meqtl_file\u001b[38;5;132;01m}\u001b[39;00m\u001b[38;5;124m > /tmp/wc_\u001b[39m\u001b[38;5;132;01m{\u001b[39;00mpop\u001b[38;5;132;01m}\u001b[39;00m\u001b[38;5;124m\"\u001b[39m)\n\u001b[0;32m----> 5\u001b[0m n \u001b[38;5;241m=\u001b[39m \u001b[38;5;28mint\u001b[39m(\u001b[38;5;28;43mopen\u001b[39;49m\u001b[43m(\u001b[49m\u001b[38;5;124;43mf\u001b[39;49m\u001b[38;5;124;43m\"\u001b[39;49m\u001b[38;5;124;43m/tmp/wc_\u001b[39;49m\u001b[38;5;132;43;01m{\u001b[39;49;00m\u001b[43mpop\u001b[49m\u001b[38;5;132;43;01m}\u001b[39;49;00m\u001b[38;5;124;43m\"\u001b[39;49m\u001b[43m,\u001b[49m\u001b[43m \u001b[49m\u001b[38;5;124;43m\"\u001b[39;49m\u001b[38;5;124;43mr\u001b[39;49m\u001b[38;5;124;43m\"\u001b[39;49m\u001b[43m)\u001b[49m\u001b[38;5;241;43m.\u001b[39;49m\u001b[43mreadlines\u001b[49m\u001b[43m(\u001b[49m\u001b[43m)\u001b[49m\u001b[43m[\u001b[49m\u001b[38;5;241;43m0\u001b[39;49m\u001b[43m]\u001b[49m\u001b[38;5;241m.\u001b[39msplit()[\u001b[38;5;241m0\u001b[39m])\n\u001b[1;32m      6\u001b[0m \u001b[38;5;28;01mfor\u001b[39;00m l \u001b[38;5;129;01min\u001b[39;00m tqdm(eqtl_file, total\u001b[38;5;241m=\u001b[39mn):\n\u001b[1;32m      7\u001b[0m     \u001b[38;5;28mprint\u001b[39m(l)\n",
      "\u001b[0;31mIndexError\u001b[0m: list index out of range"
     ]
    }
   ],
   "source": [
    "data_dir=\"/oak/stanford/groups/smontgom/erobb/data\"\n",
    "pop = \"ESN\"\n",
    "eqtl_file = f\"{data_dir}/eqtls/sorted.dist.hwe.af.{pop}.eQTL.nominal.hg38a.txt\"\n",
    "os.system(f\"wc -l {eqtl_file} > /tmp/wc_{pop}\")\n",
    "n = int(open(f\"/tmp/wc_{pop}\", \"r\").readlines()[0].split()[0])\n",
    "for l in tqdm(eqtl_file, total=n):\n",
    "    print(l)\n",
    "    break\n",
    "\n",
    "# window = 10e7 # cis-eqtls\n",
    "# for n, g in genes.iterrows():\n",
    "#     print(g)\n",
    "#     df = query_tabix(g[1], max(int(g[2]) - window, 0), g[3] + window, eqtl_file)\n",
    "#     if df is not None:\n",
    "#         break\n",
    "#     else: print(f\"{n} not found\")\n",
    "\n",
    "# vcf_file = f\"{data_dir}/vep/AF.all.{pop}.hg38a.ID.ba.VEP.vcf\"\n",
    "# expr_genes = f\"{data_dir}/deseq/exprGenes.{pop}.txt\"\n",
    "# expr_genes = open(expr_genes, 'r').readlines()[1:]\n",
    "# expr_genes = [e.strip('\\n').split('.')[0] for e in expr_genes]\n",
    "# vcf_file = open(vcf_file, 'r')\n",
    "\n",
    "# for l in vcf_file:\n",
    "#     if l[:14] == '##INFO=<ID=CSQ':\n",
    "#         csq = l.split('Format: ')[-1].strip('\\n>\"').split('|')\n",
    "#         cidx = dict(zip(csq, range(len(csq))))\n",
    "#         continue\n",
    "#     elif l[0:2] == '##': \n",
    "#         continue\n",
    "#     elif l[0] == '#': \n",
    "#         header = l.strip('#').split()\n",
    "#         hidx = dict(zip(header, range(len(header))))\n",
    "#         continue\n",
    "        \n",
    "#     l = l.split()\n",
    "#     vep = l[hidx[\"INFO\"]].split('CSQ=')[1].split('|')\n",
    "    \n",
    "#     if vep[cidx['Gene']] in expr_genes:\n",
    "#         # query tabix\n",
    "#         df = query_tabix(l[hidx[\"CHROM\"]], l[hidx[\"POS\"]], int(l[hidx[\"POS\"]])+1, eqtl_file)\n",
    "#         if df is not None:\n",
    "#             break\n"
   ]
  },
  {
   "cell_type": "code",
   "execution_count": null,
   "id": "ab24b88f",
   "metadata": {},
   "outputs": [],
   "source": [
    "df"
   ]
  },
  {
   "cell_type": "code",
   "execution_count": null,
   "id": "a1f37fdf",
   "metadata": {},
   "outputs": [],
   "source": []
  }
 ],
 "metadata": {
  "kernelspec": {
   "display_name": "Python 3 (ipykernel)",
   "language": "python",
   "name": "python3"
  },
  "language_info": {
   "codemirror_mode": {
    "name": "ipython",
    "version": 3
   },
   "file_extension": ".py",
   "mimetype": "text/x-python",
   "name": "python",
   "nbconvert_exporter": "python",
   "pygments_lexer": "ipython3",
   "version": "3.11.3"
  }
 },
 "nbformat": 4,
 "nbformat_minor": 5
}
